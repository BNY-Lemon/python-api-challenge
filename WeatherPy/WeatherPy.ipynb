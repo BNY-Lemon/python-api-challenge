{
 "cells": [
  {
   "cell_type": "markdown",
   "metadata": {},
   "source": [
    "# WeatherPy\n",
    "----\n",
    "\n",
    "#### Note\n",
    "* Instructions have been included for each segment. You do not have to follow them exactly, but they are included to help you think through the steps."
   ]
  },
  {
   "cell_type": "code",
   "execution_count": 1,
   "metadata": {
    "scrolled": true
   },
   "outputs": [
    {
     "data": {
      "text/plain": [
       "'output_data/cities.csv'"
      ]
     },
     "execution_count": 1,
     "metadata": {},
     "output_type": "execute_result"
    }
   ],
   "source": [
    "# Dependencies and Setup\n",
    "import matplotlib.pyplot as plt\n",
    "import pandas as pd\n",
    "import numpy as np\n",
    "import requests\n",
    "import time\n",
    "from scipy.stats import linregress\n",
    "import math\n",
    "import pprint\n",
    "\n",
    "# Import API key\n",
    "from api_keys import weather_api_key, weather_api_key_ben\n",
    "\n",
    "# Incorporated citipy to determine city based on latitude and longitude\n",
    "from citipy import citipy\n",
    "\n",
    "# Output File (CSV)\n",
    "output_data_file = \"output_data/cities.csv\"\n",
    "\n",
    "# Range of latitudes and longitudes\n",
    "lat_range = (-90, 90)\n",
    "lng_range = (-180, 180)\n",
    "output_data_file"
   ]
  },
  {
   "cell_type": "markdown",
   "metadata": {},
   "source": [
    "## Generate Cities List"
   ]
  },
  {
   "cell_type": "code",
   "execution_count": 2,
   "metadata": {
    "tags": []
   },
   "outputs": [
    {
     "data": {
      "text/plain": [
       "609"
      ]
     },
     "execution_count": 2,
     "metadata": {},
     "output_type": "execute_result"
    }
   ],
   "source": [
    " # List for holding lat_lngs and cities\n",
    "lat_lngs = []\n",
    "cities = []\n",
    "\n",
    "# Create a set of random lat and lng combinations\n",
    "lats = np.random.uniform(low=-90.000, high=90.000, size=1500)\n",
    "lngs = np.random.uniform(low=-180.000, high=180.000, size=1500)\n",
    "lat_lngs = zip(lats, lngs)\n",
    "\n",
    "# Identify nearest city for each lat, lng combination\n",
    "for lat_lng in lat_lngs:\n",
    "    city = citipy.nearest_city(lat_lng[0], lat_lng[1]).city_name\n",
    "    \n",
    "    # If the city is unique, then add it to a our cities list\n",
    "    if city not in cities:\n",
    "        cities.append(city)\n",
    "\n",
    "# Print the city count to confirm sufficient count\n",
    "len(cities)"
   ]
  },
  {
   "cell_type": "markdown",
   "metadata": {},
   "source": [
    "### Perform API Calls\n",
    "* Perform a weather check on each city using a series of successive API calls.\n",
    "* Include a print log of each city as it'sbeing processed (with the city number and city name).\n"
   ]
  },
  {
   "cell_type": "code",
   "execution_count": 3,
   "metadata": {
    "tags": []
   },
   "outputs": [
    {
     "name": "stdout",
     "output_type": "stream",
     "text": [
      "http://api.openweathermap.org/data/2.5/weather?appid=d0f2c118a59e375cab26298053503fbe&units=imperial&q=\n"
     ]
    }
   ],
   "source": [
    "#query link\n",
    "# Save config information.\n",
    "url = \"http://api.openweathermap.org/data/2.5/weather?\"\n",
    "units = \"imperial\"\n",
    "# Build partial query URL\n",
    "query_url = f\"{url}appid={weather_api_key_ben}&units={units}&q=\"\n",
    "print(query_url)"
   ]
  },
  {
   "cell_type": "code",
   "execution_count": 40,
   "metadata": {
    "scrolled": true,
    "tags": []
   },
   "outputs": [
    {
     "name": "stdout",
     "output_type": "stream",
     "text": [
      "Beginning Data Retrieval\n",
      "-----------------------------\n",
      "Processing Record 1 of Set 1 | dikson\n",
      "Processing Record 2 of Set 1 | vaini\n",
      "Processing Record 3 of Set 1 | ishigaki\n",
      "Processing Record 4 of Set 1 | killybegs\n",
      "Processing Record 5 of Set 1 | rikitea\n",
      "Processing Record 6 of Set 1 | punta arenas\n",
      "Processing Record 7 of Set 1 | faya\n",
      "Processing Record 8 of Set 1 | atuona\n",
      "Processing Record 9 of Set 1 | albany\n",
      "Processing Record 10 of Set 1 | lompoc\n",
      "Processing Record 11 of Set 1 | ribeira grande\n",
      "Processing Record 12 of Set 1 | east london\n",
      "Processing Record 13 of Set 1 | tasiilaq\n",
      "Processing Record 14 of Set 1 | jorhat\n",
      "Error processing taolanaro.\n",
      "Processing Record 16 of Set 1 | clyde river\n",
      "Processing Record 17 of Set 1 | hilo\n",
      "Processing Record 18 of Set 1 | plouzane\n",
      "Processing Record 19 of Set 1 | kijang\n",
      "Processing Record 20 of Set 1 | paoua\n",
      "Processing Record 21 of Set 1 | xinzhou\n",
      "Processing Record 22 of Set 1 | busselton\n",
      "Processing Record 23 of Set 1 | avarua\n",
      "Processing Record 24 of Set 1 | los llanos de aridane\n",
      "Processing Record 25 of Set 1 | taoudenni\n",
      "Processing Record 26 of Set 1 | lagos\n",
      "Processing Record 27 of Set 1 | gladstone\n",
      "Processing Record 28 of Set 1 | touros\n",
      "Processing Record 29 of Set 1 | bengkulu\n",
      "Processing Record 30 of Set 1 | isangel\n",
      "Processing Record 31 of Set 1 | klaksvik\n",
      "Processing Record 32 of Set 1 | mulino\n",
      "Error processing uk.\n",
      "Processing Record 34 of Set 1 | severo-kurilsk\n",
      "Processing Record 35 of Set 1 | carnarvon\n",
      "Processing Record 36 of Set 1 | kuopio\n",
      "Processing Record 37 of Set 1 | butaritari\n",
      "Processing Record 38 of Set 1 | cherskiy\n",
      "Processing Record 39 of Set 1 | barrow\n",
      "Processing Record 40 of Set 1 | shimoda\n",
      "Error processing tumannyy.\n",
      "Processing Record 42 of Set 1 | nemuro\n",
      "Processing Record 43 of Set 1 | thompson\n",
      "Processing Record 44 of Set 1 | nanortalik\n",
      "Processing Record 45 of Set 1 | broome\n",
      "Processing Record 46 of Set 1 | tarnogskiy gorodok\n",
      "Processing Record 47 of Set 1 | cidreira\n",
      "Processing Record 48 of Set 1 | kisangani\n",
      "Error processing urdzhar.\n",
      "Processing Record 50 of Set 1 | ca mau\n",
      "Processing Record 1 of Set 2 | sobolevo\n",
      "Processing Record 2 of Set 2 | georgetown\n",
      "Processing Record 3 of Set 2 | peleduy\n",
      "Processing Record 4 of Set 2 | new norfolk\n",
      "Processing Record 5 of Set 2 | trofors\n",
      "Error processing barentsburg.\n",
      "Processing Record 7 of Set 2 | grand gaube\n",
      "Processing Record 8 of Set 2 | alta floresta\n",
      "Error processing zolotinka.\n",
      "Processing Record 10 of Set 2 | bluff\n",
      "Processing Record 11 of Set 2 | kapaa\n",
      "Processing Record 12 of Set 2 | provideniya\n",
      "Processing Record 13 of Set 2 | baykit\n",
      "Processing Record 14 of Set 2 | honningsvag\n",
      "Processing Record 15 of Set 2 | kodiak\n",
      "Processing Record 16 of Set 2 | nianzishan\n",
      "Error processing tarudant.\n",
      "Processing Record 18 of Set 2 | khudumelapye\n",
      "Processing Record 19 of Set 2 | najran\n",
      "Processing Record 20 of Set 2 | henties bay\n",
      "Processing Record 21 of Set 2 | tuatapere\n",
      "Processing Record 22 of Set 2 | hobart\n",
      "Processing Record 23 of Set 2 | souillac\n",
      "Processing Record 24 of Set 2 | puerto ayora\n",
      "Processing Record 25 of Set 2 | yulara\n",
      "Processing Record 26 of Set 2 | castro\n",
      "Processing Record 27 of Set 2 | port elizabeth\n",
      "Processing Record 28 of Set 2 | bougouni\n",
      "Processing Record 29 of Set 2 | muroto\n",
      "Processing Record 30 of Set 2 | manaure\n",
      "Processing Record 31 of Set 2 | makakilo city\n",
      "Processing Record 32 of Set 2 | chuy\n",
      "Processing Record 33 of Set 2 | sooke\n",
      "Processing Record 34 of Set 2 | bredasdorp\n",
      "Processing Record 35 of Set 2 | yar-sale\n",
      "Processing Record 36 of Set 2 | amuntai\n",
      "Processing Record 37 of Set 2 | hermanus\n",
      "Processing Record 38 of Set 2 | lianzhou\n",
      "Error processing mys shmidta.\n",
      "Processing Record 40 of Set 2 | acarau\n",
      "Processing Record 41 of Set 2 | jasper\n",
      "Processing Record 42 of Set 2 | manono\n",
      "Processing Record 43 of Set 2 | daoukro\n",
      "Processing Record 44 of Set 2 | kamariotissa\n",
      "Processing Record 45 of Set 2 | yellowknife\n",
      "Processing Record 46 of Set 2 | dunedin\n",
      "Processing Record 47 of Set 2 | boende\n",
      "Processing Record 48 of Set 2 | mataura\n",
      "Processing Record 49 of Set 2 | mufulira\n",
      "Processing Record 50 of Set 2 | hasaki\n",
      "Processing Record 1 of Set 3 | dalbandin\n",
      "Processing Record 2 of Set 3 | ornskoldsvik\n",
      "Processing Record 3 of Set 3 | ushuaia\n",
      "Processing Record 4 of Set 3 | aloleng\n",
      "Processing Record 5 of Set 3 | viljoenskroon\n",
      "Processing Record 6 of Set 3 | brigantine\n",
      "Processing Record 7 of Set 3 | gwadar\n",
      "Processing Record 8 of Set 3 | barcelos\n",
      "Processing Record 9 of Set 3 | jatiroto\n",
      "Processing Record 10 of Set 3 | tabou\n",
      "Processing Record 11 of Set 3 | esperance\n",
      "Processing Record 12 of Set 3 | cape town\n",
      "Processing Record 13 of Set 3 | umm lajj\n",
      "Processing Record 14 of Set 3 | upernavik\n",
      "Processing Record 15 of Set 3 | cabo san lucas\n",
      "Processing Record 16 of Set 3 | acapulco\n",
      "Processing Record 17 of Set 3 | burgeo\n",
      "Processing Record 18 of Set 3 | faanui\n",
      "Processing Record 19 of Set 3 | horni plana\n",
      "Processing Record 20 of Set 3 | saskylakh\n",
      "Processing Record 21 of Set 3 | chokurdakh\n",
      "Processing Record 22 of Set 3 | qostanay\n",
      "Processing Record 23 of Set 3 | tosya\n",
      "Processing Record 24 of Set 3 | aklavik\n",
      "Processing Record 25 of Set 3 | guarapari\n",
      "Processing Record 26 of Set 3 | sao borja\n",
      "Processing Record 27 of Set 3 | lagoa\n",
      "Processing Record 28 of Set 3 | constantine\n",
      "Processing Record 29 of Set 3 | kruisfontein\n",
      "Processing Record 30 of Set 3 | bubaque\n",
      "Processing Record 31 of Set 3 | hamilton\n",
      "Processing Record 32 of Set 3 | myanaung\n",
      "Processing Record 33 of Set 3 | tarakan\n",
      "Error processing grand river south east.\n",
      "Processing Record 35 of Set 3 | great falls\n",
      "Processing Record 36 of Set 3 | mar del plata\n",
      "Processing Record 37 of Set 3 | borba\n",
      "Processing Record 38 of Set 3 | pevek\n",
      "Processing Record 39 of Set 3 | salalah\n",
      "Processing Record 40 of Set 3 | jamestown\n",
      "Processing Record 41 of Set 3 | kirkkonummi\n",
      "Processing Record 42 of Set 3 | labuan\n",
      "Processing Record 43 of Set 3 | high prairie\n",
      "Processing Record 44 of Set 3 | mithi\n",
      "Processing Record 45 of Set 3 | port alfred\n",
      "Processing Record 46 of Set 3 | tocopilla\n",
      "Processing Record 47 of Set 3 | bambous virieux\n",
      "Processing Record 48 of Set 3 | hobbs\n",
      "Processing Record 49 of Set 3 | champoton\n",
      "Processing Record 50 of Set 3 | burnie\n",
      "Processing Record 1 of Set 4 | vao\n",
      "Processing Record 2 of Set 4 | kuytun\n",
      "Processing Record 3 of Set 4 | andilamena\n",
      "Error processing vaitupu.\n",
      "Error processing belushya guba.\n",
      "Processing Record 6 of Set 4 | flinders\n",
      "Processing Record 7 of Set 4 | road town\n",
      "Processing Record 8 of Set 4 | ponta do sol\n",
      "Processing Record 9 of Set 4 | la ronge\n",
      "Error processing wangdiphodrang.\n",
      "Processing Record 11 of Set 4 | port moresby\n",
      "Processing Record 12 of Set 4 | guerrero negro\n",
      "Processing Record 13 of Set 4 | catamarca\n",
      "Processing Record 14 of Set 4 | alofi\n",
      "Processing Record 15 of Set 4 | turayf\n",
      "Processing Record 16 of Set 4 | codrington\n",
      "Processing Record 17 of Set 4 | kavieng\n",
      "Processing Record 18 of Set 4 | qaanaaq\n",
      "Error processing sentyabrskiy.\n",
      "Processing Record 20 of Set 4 | iskateley\n",
      "Processing Record 21 of Set 4 | korla\n",
      "Processing Record 22 of Set 4 | kasempa\n",
      "Error processing amderma.\n",
      "Processing Record 24 of Set 4 | kibaya\n",
      "Processing Record 25 of Set 4 | villa union\n",
      "Processing Record 26 of Set 4 | sorsk\n",
      "Processing Record 27 of Set 4 | jinchang\n",
      "Error processing tsihombe.\n",
      "Processing Record 29 of Set 4 | bethel\n",
      "Processing Record 30 of Set 4 | san patricio\n",
      "Processing Record 31 of Set 4 | orlik\n",
      "Processing Record 32 of Set 4 | marsh harbour\n",
      "Error processing nguiu.\n",
      "Processing Record 34 of Set 4 | iquique\n",
      "Processing Record 35 of Set 4 | samarai\n",
      "Processing Record 36 of Set 4 | lososina\n",
      "Processing Record 37 of Set 4 | buluang\n",
      "Processing Record 38 of Set 4 | ostrovnoy\n",
      "Processing Record 39 of Set 4 | puerto varas\n",
      "Processing Record 40 of Set 4 | shwebo\n",
      "Processing Record 41 of Set 4 | oranjemund\n",
      "Processing Record 42 of Set 4 | mangai\n",
      "Processing Record 43 of Set 4 | el jicaro\n",
      "Processing Record 44 of Set 4 | bossangoa\n",
      "Error processing louisbourg.\n",
      "Processing Record 46 of Set 4 | palu\n",
      "Processing Record 47 of Set 4 | sao filipe\n",
      "Processing Record 48 of Set 4 | rimbey\n",
      "Processing Record 49 of Set 4 | manta\n",
      "Error processing attawapiskat.\n",
      "Processing Record 1 of Set 5 | hohhot\n",
      "Processing Record 2 of Set 5 | mahebourg\n",
      "Processing Record 3 of Set 5 | yantal\n",
      "Processing Record 4 of Set 5 | beipiao\n"
     ]
    },
    {
     "name": "stdout",
     "output_type": "stream",
     "text": [
      "Processing Record 5 of Set 5 | kembe\n",
      "Processing Record 6 of Set 5 | sena madureira\n",
      "Processing Record 7 of Set 5 | shelburne\n",
      "Processing Record 8 of Set 5 | guacimo\n",
      "Processing Record 9 of Set 5 | carauari\n",
      "Processing Record 10 of Set 5 | tuktoyaktuk\n",
      "Processing Record 11 of Set 5 | vestmannaeyjar\n",
      "Processing Record 12 of Set 5 | sistranda\n",
      "Processing Record 13 of Set 5 | portland\n",
      "Processing Record 14 of Set 5 | luorong\n",
      "Processing Record 15 of Set 5 | palm coast\n",
      "Processing Record 16 of Set 5 | lebu\n",
      "Processing Record 17 of Set 5 | botshabelo\n",
      "Processing Record 18 of Set 5 | zhanaozen\n",
      "Processing Record 19 of Set 5 | fairbanks\n",
      "Processing Record 20 of Set 5 | bogyiszlo\n",
      "Processing Record 21 of Set 5 | ewa beach\n",
      "Processing Record 22 of Set 5 | vila franca do campo\n",
      "Processing Record 23 of Set 5 | norman wells\n",
      "Processing Record 24 of Set 5 | ilulissat\n",
      "Processing Record 25 of Set 5 | itarema\n",
      "Processing Record 26 of Set 5 | ancud\n",
      "Processing Record 27 of Set 5 | waddan\n",
      "Error processing illoqqortoormiut.\n",
      "Processing Record 29 of Set 5 | sioux lookout\n",
      "Processing Record 30 of Set 5 | hearst\n",
      "Error processing marathopolis.\n",
      "Processing Record 32 of Set 5 | alice springs\n",
      "Processing Record 33 of Set 5 | port blair\n",
      "Processing Record 34 of Set 5 | kysyl-syr\n",
      "Processing Record 35 of Set 5 | galesong\n",
      "Processing Record 36 of Set 5 | soller\n",
      "Processing Record 37 of Set 5 | shingu\n",
      "Processing Record 38 of Set 5 | kemin\n",
      "Processing Record 39 of Set 5 | taonan\n",
      "Processing Record 40 of Set 5 | nome\n",
      "Processing Record 41 of Set 5 | mishelevka\n",
      "Processing Record 42 of Set 5 | takoradi\n",
      "Processing Record 43 of Set 5 | mizdah\n",
      "Processing Record 44 of Set 5 | la rioja\n",
      "Processing Record 45 of Set 5 | storslett\n",
      "Processing Record 46 of Set 5 | egvekinot\n",
      "Processing Record 47 of Set 5 | talnakh\n",
      "Processing Record 48 of Set 5 | gaozhou\n",
      "Processing Record 49 of Set 5 | quesnel\n",
      "Processing Record 50 of Set 5 | college\n",
      "Error processing azimur.\n",
      "Processing Record 2 of Set 6 | leningradskiy\n",
      "Processing Record 3 of Set 6 | saint-philippe\n",
      "Processing Record 4 of Set 6 | vostok\n",
      "Processing Record 5 of Set 6 | sao felix do xingu\n",
      "Processing Record 6 of Set 6 | yei\n",
      "Error processing warqla.\n",
      "Processing Record 8 of Set 6 | naze\n",
      "Processing Record 9 of Set 6 | qaqortoq\n",
      "Processing Record 10 of Set 6 | hualmay\n",
      "Processing Record 11 of Set 6 | praia da vitoria\n",
      "Processing Record 12 of Set 6 | sao miguel do araguaia\n",
      "Processing Record 13 of Set 6 | wexford\n",
      "Processing Record 14 of Set 6 | olinda\n",
      "Processing Record 15 of Set 6 | ivanteyevka\n",
      "Processing Record 16 of Set 6 | tulun\n",
      "Processing Record 17 of Set 6 | tautira\n",
      "Error processing bolshiye uki.\n",
      "Processing Record 19 of Set 6 | pisco\n",
      "Processing Record 20 of Set 6 | raudeberg\n",
      "Processing Record 21 of Set 6 | tairua\n",
      "Processing Record 22 of Set 6 | kokstad\n",
      "Processing Record 23 of Set 6 | ulladulla\n",
      "Processing Record 24 of Set 6 | richards bay\n",
      "Processing Record 25 of Set 6 | dingle\n",
      "Processing Record 26 of Set 6 | port augusta\n",
      "Processing Record 27 of Set 6 | saint-augustin\n",
      "Processing Record 28 of Set 6 | nanhai\n",
      "Processing Record 29 of Set 6 | hay river\n",
      "Processing Record 30 of Set 6 | bac lieu\n",
      "Processing Record 31 of Set 6 | kabo\n",
      "Processing Record 32 of Set 6 | broken hill\n",
      "Error processing kuche.\n",
      "Processing Record 34 of Set 6 | fortuna\n",
      "Processing Record 35 of Set 6 | saint george\n",
      "Processing Record 36 of Set 6 | hithadhoo\n",
      "Processing Record 37 of Set 6 | maceio\n",
      "Processing Record 38 of Set 6 | kibala\n",
      "Processing Record 39 of Set 6 | necochea\n",
      "Processing Record 40 of Set 6 | atambua\n",
      "Processing Record 41 of Set 6 | kuala terengganu\n",
      "Processing Record 42 of Set 6 | kirovskiy\n",
      "Processing Record 43 of Set 6 | chifeng\n",
      "Processing Record 44 of Set 6 | benguela\n",
      "Processing Record 45 of Set 6 | agar\n",
      "Processing Record 46 of Set 6 | taltal\n",
      "Processing Record 47 of Set 6 | constitucion\n",
      "Processing Record 48 of Set 6 | leona vicario\n",
      "Processing Record 49 of Set 6 | mao\n",
      "Processing Record 50 of Set 6 | ylojarvi\n",
      "Processing Record 1 of Set 7 | pahrump\n",
      "Processing Record 2 of Set 7 | san juan\n",
      "Processing Record 3 of Set 7 | sitka\n",
      "Processing Record 4 of Set 7 | pokhara\n",
      "Processing Record 5 of Set 7 | igrim\n",
      "Processing Record 6 of Set 7 | maningrida\n",
      "Processing Record 7 of Set 7 | pedasi\n",
      "Error processing tabiauea.\n",
      "Processing Record 9 of Set 7 | beisfjord\n",
      "Processing Record 10 of Set 7 | beloha\n",
      "Processing Record 11 of Set 7 | aksarka\n",
      "Processing Record 12 of Set 7 | muros\n",
      "Processing Record 13 of Set 7 | callaway\n",
      "Processing Record 14 of Set 7 | buraydah\n",
      "Error processing hihifo.\n",
      "Processing Record 16 of Set 7 | kaeo\n",
      "Error processing burica.\n",
      "Processing Record 18 of Set 7 | caravelas\n",
      "Processing Record 19 of Set 7 | narsaq\n",
      "Processing Record 20 of Set 7 | lebyazhye\n",
      "Processing Record 21 of Set 7 | bandar-e lengeh\n",
      "Processing Record 22 of Set 7 | siguiri\n",
      "Processing Record 23 of Set 7 | toyooka\n",
      "Processing Record 24 of Set 7 | arman\n",
      "Processing Record 25 of Set 7 | umm kaddadah\n",
      "Processing Record 26 of Set 7 | sabzevar\n",
      "Processing Record 27 of Set 7 | barkhan\n",
      "Processing Record 28 of Set 7 | areosa\n",
      "Processing Record 29 of Set 7 | toora-khem\n",
      "Processing Record 30 of Set 7 | conceicao do araguaia\n",
      "Processing Record 31 of Set 7 | seoul\n",
      "Error processing lokken verk.\n",
      "Processing Record 33 of Set 7 | khatanga\n",
      "Processing Record 34 of Set 7 | puerto suarez\n",
      "Processing Record 35 of Set 7 | ferrol\n",
      "Processing Record 36 of Set 7 | santa cruz\n",
      "Processing Record 37 of Set 7 | rawson\n",
      "Processing Record 38 of Set 7 | ciro marina\n",
      "Processing Record 39 of Set 7 | hambantota\n",
      "Processing Record 40 of Set 7 | asfi\n",
      "Processing Record 41 of Set 7 | vila do maio\n",
      "Processing Record 42 of Set 7 | saint-pierre\n",
      "Processing Record 43 of Set 7 | jiuquan\n",
      "Processing Record 44 of Set 7 | oktyabrskiy\n",
      "Processing Record 45 of Set 7 | roma\n",
      "Processing Record 46 of Set 7 | puerto escondido\n",
      "Processing Record 47 of Set 7 | mayo\n",
      "Processing Record 48 of Set 7 | nikolskoye\n",
      "Processing Record 49 of Set 7 | iqaluit\n",
      "Processing Record 50 of Set 7 | khorixas\n",
      "Processing Record 1 of Set 8 | loreto\n",
      "Processing Record 2 of Set 8 | mehamn\n",
      "Processing Record 3 of Set 8 | mildura\n",
      "Processing Record 4 of Set 8 | nioro\n",
      "Processing Record 5 of Set 8 | vakhrushevo\n",
      "Processing Record 6 of Set 8 | bafra\n",
      "Processing Record 7 of Set 8 | cap malheureux\n",
      "Processing Record 8 of Set 8 | okakarara\n",
      "Processing Record 9 of Set 8 | erzin\n",
      "Processing Record 10 of Set 8 | biak\n",
      "Processing Record 11 of Set 8 | luderitz\n",
      "Processing Record 12 of Set 8 | horqueta\n",
      "Processing Record 13 of Set 8 | kaitangata\n",
      "Processing Record 14 of Set 8 | paraiso\n",
      "Processing Record 15 of Set 8 | thohoyandou\n",
      "Processing Record 16 of Set 8 | nauta\n",
      "Processing Record 17 of Set 8 | ayan\n",
      "Processing Record 18 of Set 8 | nizhniy odes\n",
      "Processing Record 19 of Set 8 | lavrentiya\n",
      "Processing Record 20 of Set 8 | ubauro\n",
      "Error processing rungata.\n",
      "Processing Record 22 of Set 8 | arraial do cabo\n",
      "Processing Record 23 of Set 8 | ibra\n",
      "Processing Record 24 of Set 8 | faro\n",
      "Error processing sorvag.\n",
      "Processing Record 26 of Set 8 | padang\n",
      "Processing Record 27 of Set 8 | pyay\n",
      "Processing Record 28 of Set 8 | key largo\n",
      "Processing Record 29 of Set 8 | chirilagua\n",
      "Processing Record 30 of Set 8 | la grande\n",
      "Processing Record 31 of Set 8 | lerwick\n",
      "Processing Record 32 of Set 8 | jutai\n",
      "Processing Record 33 of Set 8 | nerchinskiy zavod\n",
      "Processing Record 34 of Set 8 | ust-maya\n",
      "Processing Record 35 of Set 8 | kahului\n",
      "Processing Record 36 of Set 8 | stromness\n",
      "Processing Record 37 of Set 8 | inuvik\n",
      "Processing Record 38 of Set 8 | turtas\n",
      "Processing Record 39 of Set 8 | sindor\n",
      "Processing Record 40 of Set 8 | tomatlan\n",
      "Processing Record 41 of Set 8 | diffa\n",
      "Processing Record 42 of Set 8 | omboue\n",
      "Processing Record 43 of Set 8 | alyangula\n",
      "Processing Record 44 of Set 8 | sinnamary\n",
      "Processing Record 45 of Set 8 | kyabram\n",
      "Processing Record 46 of Set 8 | prainha\n",
      "Processing Record 47 of Set 8 | uhersky brod\n",
      "Processing Record 48 of Set 8 | sorong\n",
      "Processing Record 49 of Set 8 | san quintin\n",
      "Processing Record 50 of Set 8 | torbay\n",
      "Processing Record 1 of Set 9 | carbonear\n",
      "Processing Record 2 of Set 9 | cartagena del chaira\n",
      "Processing Record 3 of Set 9 | luganville\n",
      "Processing Record 4 of Set 9 | sorrento\n",
      "Processing Record 5 of Set 9 | nuuk\n",
      "Processing Record 6 of Set 9 | saint-leu\n",
      "Processing Record 7 of Set 9 | urumqi\n",
      "Processing Record 8 of Set 9 | katsuura\n"
     ]
    },
    {
     "name": "stdout",
     "output_type": "stream",
     "text": [
      "Processing Record 9 of Set 9 | sens\n",
      "Processing Record 10 of Set 9 | kaseda\n",
      "Processing Record 11 of Set 9 | anadyr\n",
      "Processing Record 12 of Set 9 | blackwater\n",
      "Processing Record 13 of Set 9 | vila velha\n",
      "Processing Record 14 of Set 9 | bonavista\n",
      "Processing Record 15 of Set 9 | plettenberg bay\n",
      "Processing Record 16 of Set 9 | green river\n",
      "Processing Record 17 of Set 9 | sisimiut\n",
      "Processing Record 18 of Set 9 | sahibganj\n",
      "Error processing toliary.\n",
      "Processing Record 20 of Set 9 | naron\n",
      "Processing Record 21 of Set 9 | springdale\n",
      "Processing Record 22 of Set 9 | linxia\n",
      "Processing Record 23 of Set 9 | pemberton\n",
      "Processing Record 24 of Set 9 | nadym\n",
      "Processing Record 25 of Set 9 | mitu\n",
      "Processing Record 26 of Set 9 | tommot\n",
      "Processing Record 27 of Set 9 | hendek\n",
      "Processing Record 28 of Set 9 | bradford\n",
      "Processing Record 29 of Set 9 | fare\n",
      "Processing Record 30 of Set 9 | maumere\n",
      "Processing Record 31 of Set 9 | saint anthony\n",
      "Processing Record 32 of Set 9 | gamba\n",
      "Processing Record 33 of Set 9 | baruun-urt\n",
      "Processing Record 34 of Set 9 | san jose\n",
      "Processing Record 35 of Set 9 | lasa\n",
      "Error processing dekoa.\n",
      "Processing Record 37 of Set 9 | vestmanna\n",
      "Processing Record 38 of Set 9 | zhigansk\n",
      "Processing Record 39 of Set 9 | at-bashi\n",
      "Error processing palabuhanratu.\n",
      "Processing Record 41 of Set 9 | zyryanka\n",
      "Processing Record 42 of Set 9 | mount gambier\n",
      "Processing Record 43 of Set 9 | riyadh\n",
      "Processing Record 44 of Set 9 | peace river\n",
      "Processing Record 45 of Set 9 | merauke\n",
      "Error processing wulanhaote.\n",
      "Processing Record 47 of Set 9 | airai\n",
      "Processing Record 48 of Set 9 | longyearbyen\n",
      "Processing Record 49 of Set 9 | udachnyy\n",
      "Error processing angra.\n",
      "Processing Record 1 of Set 10 | jurado\n",
      "Processing Record 2 of Set 10 | buchmany\n",
      "Processing Record 3 of Set 10 | haapiti\n",
      "Processing Record 4 of Set 10 | yuci\n",
      "Processing Record 5 of Set 10 | urengoy\n",
      "Processing Record 6 of Set 10 | colares\n",
      "Processing Record 7 of Set 10 | bowen\n",
      "Processing Record 8 of Set 10 | bridlington\n",
      "Processing Record 9 of Set 10 | banjarmasin\n",
      "Processing Record 10 of Set 10 | katobu\n",
      "Processing Record 11 of Set 10 | gat\n",
      "Processing Record 12 of Set 10 | flin flon\n",
      "Processing Record 13 of Set 10 | amapa\n",
      "Processing Record 14 of Set 10 | san lorenzo\n",
      "Processing Record 15 of Set 10 | geraldton\n",
      "Processing Record 16 of Set 10 | pangnirtung\n",
      "Processing Record 17 of Set 10 | mazamari\n",
      "Processing Record 18 of Set 10 | ahipara\n",
      "Processing Record 19 of Set 10 | dicabisagan\n",
      "Processing Record 20 of Set 10 | mattru\n",
      "Processing Record 21 of Set 10 | comodoro rivadavia\n",
      "Processing Record 22 of Set 10 | zdvinsk\n",
      "Processing Record 23 of Set 10 | meulaboh\n",
      "Processing Record 24 of Set 10 | moerai\n",
      "Processing Record 25 of Set 10 | stornoway\n",
      "Processing Record 26 of Set 10 | xam nua\n",
      "Processing Record 27 of Set 10 | imbituba\n",
      "Processing Record 28 of Set 10 | male\n",
      "Processing Record 29 of Set 10 | lanzhou\n",
      "Processing Record 30 of Set 10 | srednekolymsk\n",
      "Processing Record 31 of Set 10 | arlit\n",
      "Processing Record 32 of Set 10 | berger\n",
      "Error processing meyungs.\n",
      "Processing Record 34 of Set 10 | havoysund\n",
      "Processing Record 35 of Set 10 | ambilobe\n",
      "Processing Record 36 of Set 10 | marawi\n",
      "Processing Record 37 of Set 10 | porto de moz\n",
      "Processing Record 38 of Set 10 | agadir\n",
      "Processing Record 39 of Set 10 | palmer\n",
      "Processing Record 40 of Set 10 | murmashi\n",
      "Processing Record 41 of Set 10 | avera\n",
      "Processing Record 42 of Set 10 | teguldet\n",
      "Error processing saleaula.\n",
      "Error processing nizhneyansk.\n",
      "Error processing samusu.\n",
      "Processing Record 46 of Set 10 | mount vernon\n",
      "Processing Record 47 of Set 10 | qinhuangdao\n",
      "Processing Record 48 of Set 10 | lufilufi\n",
      "Processing Record 49 of Set 10 | port lincoln\n",
      "Processing Record 50 of Set 10 | namwala\n",
      "Processing Record 1 of Set 11 | anderson\n",
      "Processing Record 2 of Set 11 | potsdam\n",
      "Processing Record 3 of Set 11 | sakhnovshchyna\n",
      "Error processing utiroa.\n",
      "Processing Record 5 of Set 11 | jalu\n",
      "Processing Record 6 of Set 11 | pacific grove\n",
      "Processing Record 7 of Set 11 | belyy yar\n",
      "Processing Record 8 of Set 11 | victoria\n",
      "Processing Record 9 of Set 11 | mgandu\n",
      "Processing Record 10 of Set 11 | dmitriyevka\n",
      "Processing Record 11 of Set 11 | zeya\n",
      "Processing Record 12 of Set 11 | xuanhua\n",
      "Processing Record 13 of Set 11 | buta\n",
      "Processing Record 14 of Set 11 | gurupa\n",
      "Processing Record 15 of Set 11 | ternate\n",
      "Processing Record 16 of Set 11 | saint-georges\n",
      "Processing Record 17 of Set 11 | acari\n",
      "Processing Record 18 of Set 11 | sur\n",
      "Processing Record 19 of Set 11 | hami\n",
      "Processing Record 20 of Set 11 | vryburg\n",
      "Processing Record 21 of Set 11 | podor\n",
      "Processing Record 22 of Set 11 | birao\n",
      "Processing Record 23 of Set 11 | omsukchan\n",
      "Processing Record 24 of Set 11 | bathsheba\n",
      "Processing Record 25 of Set 11 | adrar\n",
      "Error processing tabialan.\n",
      "Processing Record 27 of Set 11 | rocha\n",
      "Processing Record 28 of Set 11 | ivdel\n",
      "Processing Record 29 of Set 11 | vardo\n",
      "Processing Record 30 of Set 11 | ashland\n",
      "Processing Record 31 of Set 11 | zomba\n",
      "Processing Record 32 of Set 11 | kalanguy\n",
      "Processing Record 33 of Set 11 | tam ky\n",
      "Processing Record 34 of Set 11 | grindavik\n",
      "Processing Record 35 of Set 11 | liberal\n",
      "Processing Record 36 of Set 11 | mangrol\n",
      "Processing Record 37 of Set 11 | chara\n",
      "Processing Record 38 of Set 11 | khandyga\n",
      "Error processing hunza.\n",
      "Processing Record 40 of Set 11 | seymchan\n",
      "Processing Record 41 of Set 11 | viedma\n",
      "Processing Record 42 of Set 11 | hibbing\n",
      "Processing Record 43 of Set 11 | luang prabang\n",
      "Processing Record 44 of Set 11 | camacha\n",
      "Processing Record 45 of Set 11 | antofagasta\n",
      "Processing Record 46 of Set 11 | eyl\n",
      "Processing Record 47 of Set 11 | saldanha\n",
      "Processing Record 48 of Set 11 | mananjary\n",
      "Processing Record 49 of Set 11 | teya\n",
      "Processing Record 50 of Set 11 | matara\n",
      "Processing Record 1 of Set 12 | olafsvik\n",
      "Processing Record 2 of Set 12 | tuskegee\n",
      "Processing Record 3 of Set 12 | hofn\n",
      "Processing Record 4 of Set 12 | barahona\n",
      "Processing Record 5 of Set 12 | presidente franco\n",
      "Processing Record 6 of Set 12 | salinopolis\n",
      "Processing Record 7 of Set 12 | homer\n",
      "Processing Record 8 of Set 12 | haldia\n",
      "Processing Record 9 of Set 12 | wahiawa\n",
      "Error processing viligili.\n",
      "Error processing marcona.\n",
      "Processing Record 12 of Set 12 | pokosnoye\n",
      "Processing Record 13 of Set 12 | talcahuano\n",
      "Processing Record 14 of Set 12 | la asuncion\n",
      "Processing Record 15 of Set 12 | fonte boa\n",
      "Processing Record 16 of Set 12 | labuhan\n",
      "Processing Record 17 of Set 12 | pryazha\n",
      "Processing Record 18 of Set 12 | wewak\n",
      "Processing Record 19 of Set 12 | petropavlovsk-kamchatskiy\n",
      "Processing Record 20 of Set 12 | goderich\n",
      "Processing Record 21 of Set 12 | faaborg\n",
      "Processing Record 22 of Set 12 | atar\n",
      "Processing Record 23 of Set 12 | san nicolas\n",
      "Error processing ituni.\n",
      "Processing Record 25 of Set 12 | waingapu\n",
      "Error processing zabinka.\n",
      "Processing Record 27 of Set 12 | umea\n",
      "Processing Record 28 of Set 12 | ati\n",
      "Processing Record 29 of Set 12 | lubu\n",
      "Processing Record 30 of Set 12 | whitehorse\n",
      "Processing Record 31 of Set 12 | george town\n",
      "Processing Record 32 of Set 12 | glenwood springs\n",
      "Processing Record 33 of Set 12 | jacareacanga\n",
      "Processing Record 34 of Set 12 | medicine hat\n",
      "Processing Record 35 of Set 12 | boguchany\n",
      "Processing Record 36 of Set 12 | hwange\n",
      "Processing Record 37 of Set 12 | harnosand\n",
      "Processing Record 38 of Set 12 | santarem\n",
      "Processing Record 39 of Set 12 | isla mujeres\n",
      "Processing Record 40 of Set 12 | chambersburg\n",
      "Processing Record 41 of Set 12 | rock sound\n",
      "Processing Record 42 of Set 12 | jianhu\n",
      "Processing Record 43 of Set 12 | tiksi\n",
      "Processing Record 44 of Set 12 | kindu\n",
      "Error processing tasbuget.\n",
      "Processing Record 46 of Set 12 | bugojno\n",
      "Processing Record 47 of Set 12 | talas\n",
      "Processing Record 48 of Set 12 | eureka\n",
      "Processing Record 49 of Set 12 | dhidhdhoo\n",
      "Processing Record 50 of Set 12 | krasnoselkup\n",
      "Processing Record 1 of Set 13 | galle\n",
      "Processing Record 2 of Set 13 | poum\n",
      "Processing Record 3 of Set 13 | lorengau\n",
      "Processing Record 4 of Set 13 | babushkin\n",
      "Error processing ambodifototra.\n",
      "Error processing jiddah.\n",
      "Processing Record 7 of Set 13 | piaseczno\n",
      "Processing Record 8 of Set 13 | khovu-aksy\n",
      "Processing Record 9 of Set 13 | ifo\n"
     ]
    }
   ],
   "source": [
    "#Loop over cities\n",
    "#f string to structure\n",
    "#use mod for record\n",
    "# Data Frame for later\n",
    "\n",
    "city_api_df = pd.DataFrame(columns=[\"City\",\"Latitude\", \"Longitude\", \"Temperature (F)\", \"Humidity (%)\", \"Cloudiness (%)\", \"Wind Speed (mph)\"])\n",
    "print(f\"Beginning Data Retrieval\\n\" \\\n",
    "\"-----------------------------\")\n",
    "counter = 0\n",
    "records = 50\n",
    "for city in cities:\n",
    "    current_record = (counter % records) + 1\n",
    "    current_set = math.ceil((counter + 1) / records)\n",
    "    try:\n",
    "        response = requests.get(query_url + str(city)).json()\n",
    "        if response[\"cod\"] == 200:\n",
    "            print(f\"Processing Record {current_record} of Set {current_set} | {city}\")\n",
    "            city_api_df = city_api_df.append({\n",
    "                \"City\": response[\"name\"],\n",
    "                \"Latitude\": response[\"coord\"][\"lat\"],\n",
    "                \"Longitude\": response[\"coord\"][\"lon\"],\n",
    "                \"Temperature (F)\": response[\"main\"][\"temp\"],\n",
    "                \"Humidity (%)\": response[\"main\"][\"humidity\"],\n",
    "                \"Cloudiness (%)\": response[\"clouds\"][\"all\"],\n",
    "                \"Wind Speed (mph)\": response[\"wind\"][\"speed\"]\n",
    "            }, ignore_index=True)\n",
    "        else:\n",
    "            raise ValueError()\n",
    "    except ValueError:\n",
    "        print(f\"Error processing {city}.\")\n",
    "    counter += 1"
   ]
  },
  {
   "cell_type": "code",
   "execution_count": 41,
   "metadata": {},
   "outputs": [
    {
     "data": {
      "text/html": [
       "<div>\n",
       "<style scoped>\n",
       "    .dataframe tbody tr th:only-of-type {\n",
       "        vertical-align: middle;\n",
       "    }\n",
       "\n",
       "    .dataframe tbody tr th {\n",
       "        vertical-align: top;\n",
       "    }\n",
       "\n",
       "    .dataframe thead th {\n",
       "        text-align: right;\n",
       "    }\n",
       "</style>\n",
       "<table border=\"1\" class=\"dataframe\">\n",
       "  <thead>\n",
       "    <tr style=\"text-align: right;\">\n",
       "      <th></th>\n",
       "      <th>City</th>\n",
       "      <th>Latitude</th>\n",
       "      <th>Longitude</th>\n",
       "      <th>Temperature (F)</th>\n",
       "      <th>Humidity (%)</th>\n",
       "      <th>Cloudiness (%)</th>\n",
       "      <th>Wind Speed (mph)</th>\n",
       "    </tr>\n",
       "  </thead>\n",
       "  <tbody>\n",
       "    <tr>\n",
       "      <th>0</th>\n",
       "      <td>Dikson</td>\n",
       "      <td>73.51</td>\n",
       "      <td>80.55</td>\n",
       "      <td>43.18</td>\n",
       "      <td>86</td>\n",
       "      <td>100</td>\n",
       "      <td>13.56</td>\n",
       "    </tr>\n",
       "    <tr>\n",
       "      <th>1</th>\n",
       "      <td>Vaini</td>\n",
       "      <td>-21.20</td>\n",
       "      <td>-175.20</td>\n",
       "      <td>75.20</td>\n",
       "      <td>73</td>\n",
       "      <td>40</td>\n",
       "      <td>8.05</td>\n",
       "    </tr>\n",
       "    <tr>\n",
       "      <th>2</th>\n",
       "      <td>Ishigaki</td>\n",
       "      <td>24.34</td>\n",
       "      <td>124.16</td>\n",
       "      <td>82.40</td>\n",
       "      <td>88</td>\n",
       "      <td>40</td>\n",
       "      <td>4.70</td>\n",
       "    </tr>\n",
       "    <tr>\n",
       "      <th>3</th>\n",
       "      <td>Killybegs</td>\n",
       "      <td>54.63</td>\n",
       "      <td>-8.45</td>\n",
       "      <td>61.00</td>\n",
       "      <td>84</td>\n",
       "      <td>100</td>\n",
       "      <td>5.01</td>\n",
       "    </tr>\n",
       "    <tr>\n",
       "      <th>4</th>\n",
       "      <td>Rikitea</td>\n",
       "      <td>-23.12</td>\n",
       "      <td>-134.97</td>\n",
       "      <td>73.83</td>\n",
       "      <td>82</td>\n",
       "      <td>0</td>\n",
       "      <td>12.01</td>\n",
       "    </tr>\n",
       "  </tbody>\n",
       "</table>\n",
       "</div>"
      ],
      "text/plain": [
       "        City  Latitude  Longitude  Temperature (F) Humidity (%)  \\\n",
       "0     Dikson     73.51      80.55            43.18           86   \n",
       "1      Vaini    -21.20    -175.20            75.20           73   \n",
       "2   Ishigaki     24.34     124.16            82.40           88   \n",
       "3  Killybegs     54.63      -8.45            61.00           84   \n",
       "4    Rikitea    -23.12    -134.97            73.83           82   \n",
       "\n",
       "  Cloudiness (%)  Wind Speed (mph)  \n",
       "0            100             13.56  \n",
       "1             40              8.05  \n",
       "2             40              4.70  \n",
       "3            100              5.01  \n",
       "4              0             12.01  "
      ]
     },
     "execution_count": 41,
     "metadata": {},
     "output_type": "execute_result"
    }
   ],
   "source": [
    "city_api_df.head()"
   ]
  },
  {
   "cell_type": "code",
   "execution_count": 43,
   "metadata": {},
   "outputs": [
    {
     "data": {
      "text/plain": [
       "560"
      ]
     },
     "execution_count": 43,
     "metadata": {},
     "output_type": "execute_result"
    }
   ],
   "source": [
    "# Testing code above, bug fixing except not triggering.\n",
    "len(city_api_df)"
   ]
  },
  {
   "cell_type": "markdown",
   "metadata": {},
   "source": [
    "### Convert Raw Data to DataFrame\n",
    "* Export the city data into a .csv.\n",
    "* Display the DataFrame"
   ]
  },
  {
   "cell_type": "code",
   "execution_count": 44,
   "metadata": {
    "tags": []
   },
   "outputs": [],
   "source": [
    "city_api_df.to_csv(\"city_data.csv\", index = False)"
   ]
  },
  {
   "cell_type": "code",
   "execution_count": 45,
   "metadata": {},
   "outputs": [
    {
     "data": {
      "text/html": [
       "<div>\n",
       "<style scoped>\n",
       "    .dataframe tbody tr th:only-of-type {\n",
       "        vertical-align: middle;\n",
       "    }\n",
       "\n",
       "    .dataframe tbody tr th {\n",
       "        vertical-align: top;\n",
       "    }\n",
       "\n",
       "    .dataframe thead th {\n",
       "        text-align: right;\n",
       "    }\n",
       "</style>\n",
       "<table border=\"1\" class=\"dataframe\">\n",
       "  <thead>\n",
       "    <tr style=\"text-align: right;\">\n",
       "      <th></th>\n",
       "      <th>City</th>\n",
       "      <th>Latitude</th>\n",
       "      <th>Longitude</th>\n",
       "      <th>Temperature (F)</th>\n",
       "      <th>Humidity (%)</th>\n",
       "      <th>Cloudiness (%)</th>\n",
       "      <th>Wind Speed (mph)</th>\n",
       "    </tr>\n",
       "  </thead>\n",
       "  <tbody>\n",
       "    <tr>\n",
       "      <th>0</th>\n",
       "      <td>Dikson</td>\n",
       "      <td>73.51</td>\n",
       "      <td>80.55</td>\n",
       "      <td>43.18</td>\n",
       "      <td>86</td>\n",
       "      <td>100</td>\n",
       "      <td>13.56</td>\n",
       "    </tr>\n",
       "    <tr>\n",
       "      <th>1</th>\n",
       "      <td>Vaini</td>\n",
       "      <td>-21.20</td>\n",
       "      <td>-175.20</td>\n",
       "      <td>75.20</td>\n",
       "      <td>73</td>\n",
       "      <td>40</td>\n",
       "      <td>8.05</td>\n",
       "    </tr>\n",
       "    <tr>\n",
       "      <th>2</th>\n",
       "      <td>Ishigaki</td>\n",
       "      <td>24.34</td>\n",
       "      <td>124.16</td>\n",
       "      <td>82.40</td>\n",
       "      <td>88</td>\n",
       "      <td>40</td>\n",
       "      <td>4.70</td>\n",
       "    </tr>\n",
       "    <tr>\n",
       "      <th>3</th>\n",
       "      <td>Killybegs</td>\n",
       "      <td>54.63</td>\n",
       "      <td>-8.45</td>\n",
       "      <td>61.00</td>\n",
       "      <td>84</td>\n",
       "      <td>100</td>\n",
       "      <td>5.01</td>\n",
       "    </tr>\n",
       "    <tr>\n",
       "      <th>4</th>\n",
       "      <td>Rikitea</td>\n",
       "      <td>-23.12</td>\n",
       "      <td>-134.97</td>\n",
       "      <td>73.83</td>\n",
       "      <td>82</td>\n",
       "      <td>0</td>\n",
       "      <td>12.01</td>\n",
       "    </tr>\n",
       "  </tbody>\n",
       "</table>\n",
       "</div>"
      ],
      "text/plain": [
       "        City  Latitude  Longitude  Temperature (F) Humidity (%)  \\\n",
       "0     Dikson     73.51      80.55            43.18           86   \n",
       "1      Vaini    -21.20    -175.20            75.20           73   \n",
       "2   Ishigaki     24.34     124.16            82.40           88   \n",
       "3  Killybegs     54.63      -8.45            61.00           84   \n",
       "4    Rikitea    -23.12    -134.97            73.83           82   \n",
       "\n",
       "  Cloudiness (%)  Wind Speed (mph)  \n",
       "0            100             13.56  \n",
       "1             40              8.05  \n",
       "2             40              4.70  \n",
       "3            100              5.01  \n",
       "4              0             12.01  "
      ]
     },
     "execution_count": 45,
     "metadata": {},
     "output_type": "execute_result"
    }
   ],
   "source": [
    "city_api_df.head()"
   ]
  },
  {
   "cell_type": "markdown",
   "metadata": {},
   "source": [
    "## Inspect the data and remove the cities where the humidity > 100%.\n",
    "----\n",
    "Skip this step if there are no cities that have humidity > 100%. "
   ]
  },
  {
   "cell_type": "code",
   "execution_count": 47,
   "metadata": {},
   "outputs": [
    {
     "data": {
      "text/plain": [
       "Int64Index([], dtype='int64')"
      ]
     },
     "execution_count": 47,
     "metadata": {},
     "output_type": "execute_result"
    }
   ],
   "source": [
    "#  Get the indices of cities that have humidity over 100%.\n",
    "city_api_df[(city_api_df[\"Humidity (%)\"] > 100)].index"
   ]
  },
  {
   "cell_type": "code",
   "execution_count": null,
   "metadata": {},
   "outputs": [],
   "source": [
    "# Make a new DataFrame equal to the city data to drop all humidity outliers by index.\n",
    "# Passing \"inplace=False\" will make a copy of the city_data DataFrame, which we call \"clean_city_data\"."
   ]
  },
  {
   "cell_type": "code",
   "execution_count": 63,
   "metadata": {},
   "outputs": [],
   "source": [
    "def plot_linear_regression(x_values, y_values, title, x_label, y_label, text_coordinates):\n",
    "    # Run regression on hemisphere weather data.\n",
    "    (slope, intercept, r_value, p_value, std_err) = linregress(x_values, y_values)\n",
    "    # Calculate the regression line \"y values\" from the slope and intercept.\n",
    "    regress_values = x_values * slope + intercept\n",
    "    # Get the equation of the line.\n",
    "    line_eq = \"y = \" + str(round(slope,2)) + \"x + \" + str(round(intercept,2))\n",
    "    # Create a scatter plot and plot the regression line.\n",
    "    plt.scatter(x_values,y_values)\n",
    "    plt.plot(x_values,regress_values,\"r\")\n",
    "    # Annotate the text for the line equation.\n",
    "    plt.annotate(line_eq, text_coordinates, fontsize=15, color=\"red\")\n",
    "    plt.xlabel(x_label)\n",
    "    plt.ylabel(y_label)\n",
    "    plt.title(title)\n",
    "    plt.show()"
   ]
  },
  {
   "cell_type": "markdown",
   "metadata": {},
   "source": [
    "## Plotting the Data\n",
    "* Use proper labeling of the plots using plot titles (including date of analysis) and axes labels.\n",
    "* Save the plotted figures as .pngs."
   ]
  },
  {
   "cell_type": "markdown",
   "metadata": {},
   "source": [
    "## Latitude vs. Temperature Plot"
   ]
  },
  {
   "cell_type": "code",
   "execution_count": 59,
   "metadata": {
    "scrolled": true
   },
   "outputs": [
    {
     "data": {
      "image/png": "[encoded data removed]",
      "text/plain": [
       "<Figure size 432x288 with 1 Axes>"
      ]
     },
     "metadata": {
      "needs_background": "light"
     },
     "output_type": "display_data"
    }
   ],
   "source": [
    "x_values = city_api_df[\"Latitude\"]\n",
    "y_values = city_api_df[\"Temperature (F)\"]\n",
    "title = \"Latitude vs. Temperature\"\n",
    "x_label = \"Latitude\"\n",
    "y_label = \"Temperature (F)\"\n",
    "text_coordinates = (-20,30)\n",
    "plot_linear_regression(x_values, y_values, title, x_label, y_label, text_coordinates)"
   ]
  },
  {
   "cell_type": "markdown",
   "metadata": {},
   "source": [
    "## Latitude vs. Humidity Plot"
   ]
  },
  {
   "cell_type": "code",
   "execution_count": 77,
   "metadata": {},
   "outputs": [
    {
     "data": {
      "image/png": "[encoded data removed]",
      "text/plain": [
       "<Figure size 432x288 with 1 Axes>"
      ]
     },
     "metadata": {
      "needs_background": "light"
     },
     "output_type": "display_data"
    }
   ],
   "source": [
    "# Finish later\n",
    "city_api_df[\"Humidity (%)\"] = city_api_df[\"Humidity (%)\"].fillna(0)\n",
    "x_values = city_api_df[\"Latitude\"]\n",
    "y_values = city_api_df[\"Humidity (%)\"]\n",
    "title = \"Latitude vs. Humidity (%)\"\n",
    "x_label = \"Latitude\"\n",
    "y_label = \"Humidity (%)\"\n",
    "text_coordinates = (0,0)\n",
    "plot_linear_regression(x_values, y_values, title, x_label, y_label, text_coordinates)"
   ]
  },
  {
   "cell_type": "markdown",
   "metadata": {},
   "source": [
    "## Latitude vs. Cloudiness Plot"
   ]
  },
  {
   "cell_type": "code",
   "execution_count": null,
   "metadata": {},
   "outputs": [],
   "source": [
    "# Finish later"
   ]
  },
  {
   "cell_type": "markdown",
   "metadata": {},
   "source": [
    "## Latitude vs. Wind Speed Plot"
   ]
  },
  {
   "cell_type": "code",
   "execution_count": null,
   "metadata": {},
   "outputs": [],
   "source": [
    "# Finish later"
   ]
  },
  {
   "cell_type": "markdown",
   "metadata": {},
   "source": [
    "## Linear Regression"
   ]
  },
  {
   "cell_type": "code",
   "execution_count": null,
   "metadata": {},
   "outputs": [],
   "source": [
    "# Already complete"
   ]
  },
  {
   "cell_type": "markdown",
   "metadata": {},
   "source": [
    "####  Northern Hemisphere - Max Temp vs. Latitude Linear Regression"
   ]
  },
  {
   "cell_type": "code",
   "execution_count": 72,
   "metadata": {},
   "outputs": [
    {
     "data": {
      "image/png": "[encoded data removed]",
      "text/plain": [
       "<Figure size 432x288 with 1 Axes>"
      ]
     },
     "metadata": {
      "needs_background": "light"
     },
     "output_type": "display_data"
    }
   ],
   "source": [
    "north_hemi = city_api_df[city_api_df[\"Latitude\"] > 0]\n",
    "x_values_p = north_hemi[\"Latitude\"]\n",
    "y_values_p = north_hemi[\"Temperature (F)\"]\n",
    "title_p = \"Latitude vs. Temperature\"\n",
    "x_label_p = \"Latitude\"\n",
    "y_label_p = \"Temperature (F)\"\n",
    "text_coordinates_p = (0,30)\n",
    "plot_linear_regression(x_values_p, y_values_p, title_p, x_label_p, y_label_p, text_coordinates_p)"
   ]
  },
  {
   "cell_type": "markdown",
   "metadata": {},
   "source": [
    "####  Southern Hemisphere - Max Temp vs. Latitude Linear Regression"
   ]
  },
  {
   "cell_type": "code",
   "execution_count": null,
   "metadata": {},
   "outputs": [],
   "source": []
  },
  {
   "cell_type": "markdown",
   "metadata": {},
   "source": [
    "####  Northern Hemisphere - Humidity (%) vs. Latitude Linear Regression"
   ]
  },
  {
   "cell_type": "code",
   "execution_count": null,
   "metadata": {},
   "outputs": [],
   "source": []
  },
  {
   "cell_type": "markdown",
   "metadata": {},
   "source": [
    "####  Southern Hemisphere - Humidity (%) vs. Latitude Linear Regression"
   ]
  },
  {
   "cell_type": "code",
   "execution_count": null,
   "metadata": {},
   "outputs": [],
   "source": []
  },
  {
   "cell_type": "markdown",
   "metadata": {},
   "source": [
    "####  Northern Hemisphere - Cloudiness (%) vs. Latitude Linear Regression"
   ]
  },
  {
   "cell_type": "code",
   "execution_count": null,
   "metadata": {},
   "outputs": [],
   "source": []
  },
  {
   "cell_type": "markdown",
   "metadata": {},
   "source": [
    "####  Southern Hemisphere - Cloudiness (%) vs. Latitude Linear Regression"
   ]
  },
  {
   "cell_type": "code",
   "execution_count": null,
   "metadata": {},
   "outputs": [],
   "source": []
  },
  {
   "cell_type": "markdown",
   "metadata": {},
   "source": [
    "####  Northern Hemisphere - Wind Speed (mph) vs. Latitude Linear Regression"
   ]
  },
  {
   "cell_type": "code",
   "execution_count": null,
   "metadata": {},
   "outputs": [],
   "source": []
  },
  {
   "cell_type": "markdown",
   "metadata": {},
   "source": [
    "####  Southern Hemisphere - Wind Speed (mph) vs. Latitude Linear Regression"
   ]
  },
  {
   "cell_type": "code",
   "execution_count": null,
   "metadata": {},
   "outputs": [],
   "source": []
  },
  {
   "cell_type": "code",
   "execution_count": null,
   "metadata": {},
   "outputs": [],
   "source": []
  }
 ],
 "metadata": {
  "anaconda-cloud": {},
  "kernel_info": {
   "name": "python3"
  },
  "kernelspec": {
   "display_name": "Python 3.6.10 64-bit ('PythonData': conda)",
   "language": "python",
   "name": "python361064bitpythondataconda5e60201c834b4eef8ff9456a40895e69"
  },
  "language_info": {
   "codemirror_mode": {
    "name": "ipython",
    "version": 3
   },
   "file_extension": ".py",
   "mimetype": "text/x-python",
   "name": "python",
   "nbconvert_exporter": "python",
   "pygments_lexer": "ipython3",
   "version": "3.6.10"
  },
  "latex_envs": {
   "LaTeX_envs_menu_present": true,
   "autoclose": false,
   "autocomplete": true,
   "bibliofile": "biblio.bib",
   "cite_by": "apalike",
   "current_citInitial": 1,
   "eqLabelWithNumbers": true,
   "eqNumInitial": 1,
   "hotkeys": {
    "equation": "Ctrl-E",
    "itemize": "Ctrl-I"
   },
   "labels_anchors": false,
   "latex_user_defs": false,
   "report_style_numbering": false,
   "user_envs_cfg": false
  },
  "nteract": {
   "version": "0.12.3"
  }
 },
 "nbformat": 4,
 "nbformat_minor": 2
}
